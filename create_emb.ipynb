{
 "cells": [
  {
   "cell_type": "code",
   "execution_count": 1,
   "metadata": {},
   "outputs": [],
   "source": [
    "import os\n",
    "import json\n",
    "import pickle\n",
    "import numpy as np\n",
    "from tqdm import tqdm\n",
    "from src.data.datasets import polyvore\n"
   ]
  },
  {
   "cell_type": "code",
   "execution_count": 2,
   "metadata": {},
   "outputs": [],
   "source": [
    "polyvore_dir = 'datasets/polyvore'"
   ]
  },
  {
   "cell_type": "code",
   "execution_count": 3,
   "metadata": {},
   "outputs": [
    {
     "name": "stdout",
     "output_type": "stream",
     "text": [
      "datasets/polyvore/precomputed_clip_embeddings_style/polyvore_2.pkl\n"
     ]
    },
    {
     "name": "stdout",
     "output_type": "stream",
     "text": [
      "Loaded 251008 embeddings\n",
      "Created embeddings dictionary\n"
     ]
    }
   ],
   "source": [
    "all_embeddings_dict = polyvore.load_all_embeddings_dict(polyvore_dir)"
   ]
  },
  {
   "cell_type": "code",
   "execution_count": 4,
   "metadata": {},
   "outputs": [],
   "source": [
    "# Define the path to the JSON file\n",
    "json_path = '/home/nogaschw/outfit-transformer-main/Fashion Rec -Style and Event/item_event.json'\n",
    "\n",
    "# Open and read the JSON file\n",
    "with open(json_path, 'r') as file:\n",
    "    item_event_data = json.load(file)"
   ]
  },
  {
   "cell_type": "code",
   "execution_count": 5,
   "metadata": {},
   "outputs": [],
   "source": [
    "# Define the path to the JSON file\n",
    "json_path = '/home/nogaschw/outfit-transformer-main/Fashion Rec -Style and Event/item_style.json'\n",
    "\n",
    "# Open and read the JSON file\n",
    "with open(json_path, 'r') as file:\n",
    "    item_style_data = json.load(file)"
   ]
  },
  {
   "cell_type": "code",
   "execution_count": 6,
   "metadata": {},
   "outputs": [],
   "source": [
    "item_event_data = {int(k): v for k, v in item_event_data.items()}"
   ]
  },
  {
   "cell_type": "code",
   "execution_count": 7,
   "metadata": {},
   "outputs": [],
   "source": [
    "item_style_data = {int(k): v for k, v in item_style_data.items()}"
   ]
  },
  {
   "cell_type": "code",
   "execution_count": 8,
   "metadata": {},
   "outputs": [
    {
     "name": "stdout",
     "output_type": "stream",
     "text": [
      "New embeddings dictionary created with 251008 items.\n"
     ]
    }
   ],
   "source": [
    "new_embeddings_dict_event = {}\n",
    "\n",
    "for key, embedding in all_embeddings_dict.items():\n",
    "    if key in item_event_data:\n",
    "        new_embedding = np.concatenate((embedding, np.array(item_event_data[key])), axis=0)\n",
    "        new_embeddings_dict_event[key] = new_embedding\n",
    "\n",
    "print(f\"New embeddings dictionary created with {len(new_embeddings_dict_event)} items.\")"
   ]
  },
  {
   "cell_type": "code",
   "execution_count": 9,
   "metadata": {},
   "outputs": [
    {
     "name": "stdout",
     "output_type": "stream",
     "text": [
      "New embeddings dictionary created with 251008 items.\n"
     ]
    }
   ],
   "source": [
    "new_embeddings_dict_style = {}\n",
    "\n",
    "for key, embedding in all_embeddings_dict.items():\n",
    "    if key in item_style_data:\n",
    "        new_embedding = np.concatenate((embedding, np.array(item_style_data[key])), axis=0)\n",
    "        new_embeddings_dict_style[key] = new_embedding\n",
    "\n",
    "print(f\"New embeddings dictionary created with {len(new_embeddings_dict_style)} items.\")"
   ]
  },
  {
   "cell_type": "code",
   "execution_count": 10,
   "metadata": {},
   "outputs": [
    {
     "name": "stdout",
     "output_type": "stream",
     "text": [
      "New embeddings dictionary created with 251008 items.\n"
     ]
    }
   ],
   "source": [
    "new_embeddings_dict = {}\n",
    "\n",
    "for key, embedding in new_embeddings_dict_style.items():\n",
    "    if key in item_event_data:\n",
    "        new_embedding = np.concatenate((embedding, np.array(item_event_data[key])), axis=0)\n",
    "        new_embeddings_dict[key] = new_embedding\n",
    "\n",
    "print(f\"New embeddings dictionary created with {len(new_embeddings_dict)} items.\")"
   ]
  },
  {
   "cell_type": "code",
   "execution_count": null,
   "metadata": {},
   "outputs": [],
   "source": [
    "data_style = {'ids': list(new_embeddings_dict_style.keys()), 'embeddings': list(new_embeddings_dict_style.values())}\n",
    "data_event = {'ids': list(new_embeddings_dict_event.keys()), 'embeddings': list(new_embeddings_dict_event.values())}\n",
    "data_all = {'ids': list(new_embeddings_dict.keys()), 'embeddings': list(new_embeddings_dict.values())}"
   ]
  },
  {
   "cell_type": "code",
   "execution_count": null,
   "metadata": {},
   "outputs": [],
   "source": [
    "# Define the path to the pickle file\n",
    "pickle_path = '/home/nogaschw/outfit-transformer-main/datasets/polyvore/precomputed_clip_embeddings_event'\n",
    "\n",
    "# Write the new_embeddings_dict to the pickle file\n",
    "if not os.path.exists(pickle_path):\n",
    "    os.makedirs(pickle_path)\n",
    "\n",
    "with open(f'{pickle_path}/polyvore_1.pkl', 'wb') as file:\n",
    "    pickle.dump(data_event, file)"
   ]
  },
  {
   "cell_type": "code",
   "execution_count": null,
   "metadata": {},
   "outputs": [],
   "source": [
    "# Define the path to the pickle file\n",
    "pickle_path = '/home/nogaschw/outfit-transformer-main/datasets/polyvore/precomputed_clip_embeddings_style'\n",
    "\n",
    "# Write the new_embeddings_dict to the pickle file\n",
    "if not os.path.exists(pickle_path):\n",
    "    os.makedirs(pickle_path)\n",
    "\n",
    "with open(f'{pickle_path}/polyvore_2.pkl', 'wb') as file:\n",
    "    pickle.dump(data_style, file)"
   ]
  },
  {
   "cell_type": "code",
   "execution_count": 14,
   "metadata": {},
   "outputs": [],
   "source": [
    "# Define the path to the pickle file\n",
    "pickle_path = '/home/nogaschw/outfit-transformer-main/datasets/polyvore/precomputed_clip_embeddings_all'\n",
    "\n",
    "# Write the new_embeddings_dict to the pickle file\n",
    "if not os.path.exists(pickle_path):\n",
    "    os.makedirs(pickle_path)\n",
    "\n",
    "with open(f'{pickle_path}/polyvore_3.pkl', 'wb') as file:\n",
    "    pickle.dump(data_all, file)"
   ]
  }
 ],
 "metadata": {
  "kernelspec": {
   "display_name": "Python 3",
   "language": "python",
   "name": "python3"
  },
  "language_info": {
   "codemirror_mode": {
    "name": "ipython",
    "version": 3
   },
   "file_extension": ".py",
   "mimetype": "text/x-python",
   "name": "python",
   "nbconvert_exporter": "python",
   "pygments_lexer": "ipython3",
   "version": "3.12.9"
  }
 },
 "nbformat": 4,
 "nbformat_minor": 2
}
